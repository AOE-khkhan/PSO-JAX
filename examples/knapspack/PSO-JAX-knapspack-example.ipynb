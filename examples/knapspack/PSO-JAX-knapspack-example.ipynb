{
  "nbformat": 4,
  "nbformat_minor": 0,
  "metadata": {
    "colab": {
      "name": "Código Definitivo",
      "provenance": [],
      "collapsed_sections": [
        "AHNWmTzl66EO",
        "BWUhQ4-h7YTx",
        "IybgcZc6QEZj",
        "ja6_ZpTAuvwd",
        "zJZd3r0avHPI"
      ]
    },
    "kernelspec": {
      "name": "python3",
      "display_name": "Python 3"
    }
  },
  "cells": [
    {
      "cell_type": "markdown",
      "metadata": {
        "id": "AHNWmTzl66EO",
        "colab_type": "text"
      },
      "source": [
        "# Ejecutar para conocer Hardware"
      ]
    },
    {
      "cell_type": "markdown",
      "metadata": {
        "id": "vhb5uEkh7D4K",
        "colab_type": "text"
      },
      "source": [
        "CPU"
      ]
    },
    {
      "cell_type": "code",
      "metadata": {
        "id": "Ag5QCwsX6172",
        "colab_type": "code",
        "colab": {}
      },
      "source": [
        "!cat /proc/cpuinfo"
      ],
      "execution_count": null,
      "outputs": []
    },
    {
      "cell_type": "markdown",
      "metadata": {
        "id": "iK0_ir9p7JZu",
        "colab_type": "text"
      },
      "source": [
        "GPU/TPU (depende de lo que se utilice)"
      ]
    },
    {
      "cell_type": "code",
      "metadata": {
        "id": "BR6Wt-zY6_VI",
        "colab_type": "code",
        "colab": {}
      },
      "source": [
        "!nvidia-smi"
      ],
      "execution_count": null,
      "outputs": []
    },
    {
      "cell_type": "markdown",
      "metadata": {
        "id": "hOs5p1dN7Pqu",
        "colab_type": "text"
      },
      "source": [
        "Memoria RAM"
      ]
    },
    {
      "cell_type": "code",
      "metadata": {
        "id": "gh6e1eQe6_4h",
        "colab_type": "code",
        "colab": {}
      },
      "source": [
        "!cat /proc/meminfo"
      ],
      "execution_count": null,
      "outputs": []
    },
    {
      "cell_type": "markdown",
      "metadata": {
        "id": "GW-_pkkz7Ysf",
        "colab_type": "text"
      },
      "source": [
        "Manejo de datos en disco"
      ]
    },
    {
      "cell_type": "code",
      "metadata": {
        "id": "X-c-ql3X7ZYz",
        "colab_type": "code",
        "colab": {}
      },
      "source": [
        "!df -h"
      ],
      "execution_count": null,
      "outputs": []
    },
    {
      "cell_type": "markdown",
      "metadata": {
        "id": "BWUhQ4-h7YTx",
        "colab_type": "text"
      },
      "source": [
        "# Ejecutar para correr en TPU"
      ]
    },
    {
      "cell_type": "code",
      "metadata": {
        "id": "8xFfM-m87XaB",
        "colab_type": "code",
        "colab": {
          "base_uri": "https://localhost:8080/",
          "height": 350
        },
        "outputId": "2a7ec49f-1514-4cf2-a741-201e14e2c454"
      },
      "source": [
        "# Colab runtime set to TPU\n",
        "import requests\n",
        "import os\n",
        "if 'TPU_DRIVER_MODE' not in globals():\n",
        "  url = 'http://' + os.environ['COLAB_TPU_ADDR'].split(':')[0] + ':8475/requestversion/tpu_driver_nightly'\n",
        "  resp = requests.post(url)\n",
        "  TPU_DRIVER_MODE = 1\n",
        "\n",
        "# config TPU driver as backend for JAX\n",
        "from jax.config import config\n",
        "config.FLAGS.jax_xla_backend = \"tpu_driver\"\n",
        "config.FLAGS.jax_backend_target = \"grpc://\" + os.environ['COLAB_TPU_ADDR']\n",
        "print(config.FLAGS.jax_backend_target)"
      ],
      "execution_count": null,
      "outputs": [
        {
          "output_type": "error",
          "ename": "KeyError",
          "evalue": "ignored",
          "traceback": [
            "\u001b[0;31m---------------------------------------------------------------------------\u001b[0m",
            "\u001b[0;31mKeyError\u001b[0m                                  Traceback (most recent call last)",
            "\u001b[0;32m<ipython-input-2-93e32e6d1bc9>\u001b[0m in \u001b[0;36m<module>\u001b[0;34m()\u001b[0m\n\u001b[1;32m      3\u001b[0m \u001b[0;32mimport\u001b[0m \u001b[0mos\u001b[0m\u001b[0;34m\u001b[0m\u001b[0;34m\u001b[0m\u001b[0m\n\u001b[1;32m      4\u001b[0m \u001b[0;32mif\u001b[0m \u001b[0;34m'TPU_DRIVER_MODE'\u001b[0m \u001b[0;32mnot\u001b[0m \u001b[0;32min\u001b[0m \u001b[0mglobals\u001b[0m\u001b[0;34m(\u001b[0m\u001b[0;34m)\u001b[0m\u001b[0;34m:\u001b[0m\u001b[0;34m\u001b[0m\u001b[0;34m\u001b[0m\u001b[0m\n\u001b[0;32m----> 5\u001b[0;31m   \u001b[0murl\u001b[0m \u001b[0;34m=\u001b[0m \u001b[0;34m'http://'\u001b[0m \u001b[0;34m+\u001b[0m \u001b[0mos\u001b[0m\u001b[0;34m.\u001b[0m\u001b[0menviron\u001b[0m\u001b[0;34m[\u001b[0m\u001b[0;34m'COLAB_TPU_ADDR'\u001b[0m\u001b[0;34m]\u001b[0m\u001b[0;34m.\u001b[0m\u001b[0msplit\u001b[0m\u001b[0;34m(\u001b[0m\u001b[0;34m':'\u001b[0m\u001b[0;34m)\u001b[0m\u001b[0;34m[\u001b[0m\u001b[0;36m0\u001b[0m\u001b[0;34m]\u001b[0m \u001b[0;34m+\u001b[0m \u001b[0;34m':8475/requestversion/tpu_driver_nightly'\u001b[0m\u001b[0;34m\u001b[0m\u001b[0;34m\u001b[0m\u001b[0m\n\u001b[0m\u001b[1;32m      6\u001b[0m   \u001b[0mresp\u001b[0m \u001b[0;34m=\u001b[0m \u001b[0mrequests\u001b[0m\u001b[0;34m.\u001b[0m\u001b[0mpost\u001b[0m\u001b[0;34m(\u001b[0m\u001b[0murl\u001b[0m\u001b[0;34m)\u001b[0m\u001b[0;34m\u001b[0m\u001b[0;34m\u001b[0m\u001b[0m\n\u001b[1;32m      7\u001b[0m   \u001b[0mTPU_DRIVER_MODE\u001b[0m \u001b[0;34m=\u001b[0m \u001b[0;36m1\u001b[0m\u001b[0;34m\u001b[0m\u001b[0;34m\u001b[0m\u001b[0m\n",
            "\u001b[0;32m/usr/lib/python3.6/os.py\u001b[0m in \u001b[0;36m__getitem__\u001b[0;34m(self, key)\u001b[0m\n\u001b[1;32m    667\u001b[0m         \u001b[0;32mexcept\u001b[0m \u001b[0mKeyError\u001b[0m\u001b[0;34m:\u001b[0m\u001b[0;34m\u001b[0m\u001b[0;34m\u001b[0m\u001b[0m\n\u001b[1;32m    668\u001b[0m             \u001b[0;31m# raise KeyError with the original key value\u001b[0m\u001b[0;34m\u001b[0m\u001b[0;34m\u001b[0m\u001b[0;34m\u001b[0m\u001b[0m\n\u001b[0;32m--> 669\u001b[0;31m             \u001b[0;32mraise\u001b[0m \u001b[0mKeyError\u001b[0m\u001b[0;34m(\u001b[0m\u001b[0mkey\u001b[0m\u001b[0;34m)\u001b[0m \u001b[0;32mfrom\u001b[0m \u001b[0;32mNone\u001b[0m\u001b[0;34m\u001b[0m\u001b[0;34m\u001b[0m\u001b[0m\n\u001b[0m\u001b[1;32m    670\u001b[0m         \u001b[0;32mreturn\u001b[0m \u001b[0mself\u001b[0m\u001b[0;34m.\u001b[0m\u001b[0mdecodevalue\u001b[0m\u001b[0;34m(\u001b[0m\u001b[0mvalue\u001b[0m\u001b[0;34m)\u001b[0m\u001b[0;34m\u001b[0m\u001b[0;34m\u001b[0m\u001b[0m\n\u001b[1;32m    671\u001b[0m \u001b[0;34m\u001b[0m\u001b[0m\n",
            "\u001b[0;31mKeyError\u001b[0m: 'COLAB_TPU_ADDR'"
          ]
        }
      ]
    },
    {
      "cell_type": "markdown",
      "metadata": {
        "id": "IybgcZc6QEZj",
        "colab_type": "text"
      },
      "source": [
        "# Instalar PySwarms"
      ]
    },
    {
      "cell_type": "code",
      "metadata": {
        "id": "c-xlzn3LvO6Z",
        "colab_type": "code",
        "colab": {
          "base_uri": "https://localhost:8080/"
        },
        "outputId": "760a083a-6bf1-41dc-eec2-d902a7eb9dbd"
      },
      "source": [
        "!pip install Pyswarms"
      ],
      "execution_count": null,
      "outputs": [
        {
          "output_type": "stream",
          "text": [
            "Requirement already satisfied: Pyswarms in /usr/local/lib/python3.6/dist-packages (1.1.0)\n",
            "Requirement already satisfied: scipy in /usr/local/lib/python3.6/dist-packages (from Pyswarms) (1.4.1)\n",
            "Requirement already satisfied: tqdm in /usr/local/lib/python3.6/dist-packages (from Pyswarms) (4.41.1)\n",
            "Requirement already satisfied: matplotlib>=1.3.1 in /usr/local/lib/python3.6/dist-packages (from Pyswarms) (3.2.2)\n",
            "Requirement already satisfied: future in /usr/local/lib/python3.6/dist-packages (from Pyswarms) (0.16.0)\n",
            "Requirement already satisfied: numpy in /usr/local/lib/python3.6/dist-packages (from Pyswarms) (1.18.5)\n",
            "Requirement already satisfied: attrs in /usr/local/lib/python3.6/dist-packages (from Pyswarms) (19.3.0)\n",
            "Requirement already satisfied: cycler>=0.10 in /usr/local/lib/python3.6/dist-packages (from matplotlib>=1.3.1->Pyswarms) (0.10.0)\n",
            "Requirement already satisfied: kiwisolver>=1.0.1 in /usr/local/lib/python3.6/dist-packages (from matplotlib>=1.3.1->Pyswarms) (1.2.0)\n",
            "Requirement already satisfied: pyparsing!=2.0.4,!=2.1.2,!=2.1.6,>=2.0.1 in /usr/local/lib/python3.6/dist-packages (from matplotlib>=1.3.1->Pyswarms) (2.4.7)\n",
            "Requirement already satisfied: python-dateutil>=2.1 in /usr/local/lib/python3.6/dist-packages (from matplotlib>=1.3.1->Pyswarms) (2.8.1)\n",
            "Requirement already satisfied: six in /usr/local/lib/python3.6/dist-packages (from cycler>=0.10->matplotlib>=1.3.1->Pyswarms) (1.12.0)\n"
          ],
          "name": "stdout"
        }
      ]
    },
    {
      "cell_type": "markdown",
      "metadata": {
        "id": "zB0wQpmxu-No",
        "colab_type": "text"
      },
      "source": [
        "# PSO/Mochila con NUMPY\n"
      ]
    },
    {
      "cell_type": "code",
      "metadata": {
        "id": "LA7v8sdyu9fd",
        "colab_type": "code",
        "colab": {}
      },
      "source": [
        "import numpy as np\n",
        "\n",
        "def init_mochila():\n",
        "    global pv_file\n",
        "    global bs_file\n",
        "    global rs_file\n",
        "    \n",
        "    pv_file = np.loadtxt('pv.csv', delimiter=',')\n",
        "    rs_file = np.loadtxt('rs.csv', delimiter=',')\n",
        "    bs_file = np.loadtxt('bs.csv', delimiter=',')\n",
        "\n",
        "def mochila_res(X):\n",
        "    Peso = np.sum(pv_file, axis=0)\n",
        "\n",
        "    PR = np.matmul(X, pv_file)\n",
        "\n",
        "    G = np.matmul(rs_file, X.transpose()).transpose()\n",
        "    # Transpongo para cumplir con (k,j),(j,i)->(k,i)\n",
        "\n",
        "    VIO = np.add(G, -1 * bs_file) # Esto esta perfecto\n",
        "\n",
        "    VIO = np.where(VIO < 0.0, 0.0, VIO)\n",
        "\n",
        "    PNLTY = np.sum(VIO, axis = 1)\n",
        "\n",
        "    FI = np.add(PR, -1 * (Peso * PNLTY))\n",
        "\n",
        "    return FI, VIO\n",
        "\n",
        "def mochila(X):\n",
        "    FI, VIO = mochila_res(X)\n",
        "\n",
        "    return -FI\n",
        "\n",
        "def activation(x, function=1):\n",
        "    if (function == 1):  # Sigmoid\n",
        "        return 1 / (1 + np.exp(-x))\n",
        "    elif (function == 2):  # Softmax\n",
        "        expo = np.exp(x)\n",
        "        expo_sum = np.sum(np.exp(x))\n",
        "        return expo / expo_sum\n",
        "    elif (function == 3):  # ReLu\n",
        "        return np.maximum(0, x)\n",
        "\n",
        "\n",
        "def toDiscrete(x):\n",
        "    return np.where(x < 0.5, 0, 1)\n",
        "\n",
        "def convert_to_discrete(x):\n",
        "    x_sigmoid = 1 / (1 + np.exp(-x))\n",
        "    discrete_position = np.where(x_sigmoid < 0.5, 0, 1)\n",
        "    return discrete_position\n",
        "\n",
        "def calculate_velocity(w, particles_velocity, c1, c2, r1, r2, best_particle_position,\n",
        "                       particles_position, best_global_position):\n",
        "    inertia = w * particles_velocity\n",
        "    best_particle_pos_component = r1 * (best_particle_position - particles_position)\n",
        "    best_global_pos_component = r2 * (best_global_position - particles_position)\n",
        "\n",
        "    new_velocity = inertia + c1 * best_particle_pos_component + c2 * best_global_pos_component\n",
        "    return new_velocity\n",
        "\n",
        "def calculate_best_position(objective_values, best_particle_cost, particles_position, best_particle_position, particles,\n",
        "                            dimensions):\n",
        "    bests = np.less(objective_values, best_particle_cost)\n",
        "    reshape = np.reshape(bests, np.array([particles, 1]))\n",
        "    bests_reshape = np.broadcast_to(reshape, np.array([particles, dimensions]))\n",
        "    pos = np.where(bests_reshape, particles_position, best_particle_position)\n",
        "    return pos\n",
        "\n",
        "def runDiscretePSO_np(user_options, algorithm_options):\n",
        "    # For each particle, initialize position and velocity\n",
        "    particles_position = np.random.uniform(-1, 1, (algorithm_options['particles'], algorithm_options['dimensions']))\n",
        "    particles_velocity = np.random.uniform(-1, 1, (algorithm_options['particles'], algorithm_options['dimensions']))\n",
        "\n",
        "    # particles_position = convert_to_discrete(particles_position)\n",
        "    particles_position = toDiscrete(activation(particles_velocity))\n",
        "\n",
        "    particles = algorithm_options['particles']\n",
        "    dimensions = algorithm_options['dimensions']\n",
        "    best_global = None  # Best swarm cost\n",
        "    best_global_position = np.empty((particles, dimensions))  # Best swarm position\n",
        "    best_particle_position = particles_position\n",
        "    best_particle_cost = algorithm_options['objective'](best_particle_position)  # obj_fuction(best_particle_position)\n",
        "\n",
        "    for k in range(0, algorithm_options['iterations']):\n",
        "        # while k < algorithm_options['iterations']:\n",
        "        objective_values = algorithm_options['objective'](best_particle_position)  # obj_fuction(particles_position)\n",
        "        best_index = np.argmin(objective_values)\n",
        "        best_value = objective_values[best_index]\n",
        "\n",
        "        # 150 x 20 !!!\n",
        "        best_particle_position = calculate_best_position(objective_values, best_particle_cost, particles_position,\n",
        "                                                         best_particle_position, particles, dimensions)\n",
        "\n",
        "        if best_global is None or best_value < best_global:\n",
        "            # Update best swarm cost and position\n",
        "            best_global = best_value\n",
        "            best_global_position = particles_position[best_index]\n",
        "\n",
        "        r1 = np.random.uniform(0, 1, (algorithm_options['particles'], algorithm_options['dimensions']))\n",
        "        r2 = np.random.uniform(0, 1, (algorithm_options['particles'], algorithm_options['dimensions']))\n",
        "\n",
        "        particles_velocity = calculate_velocity(user_options['w'], particles_velocity, user_options['c1'],\n",
        "                                                user_options['c2'], r1, r2, best_particle_position,\n",
        "                                                particles_position, best_global_position)\n",
        "\n",
        "        #new_particle_positions = particles_position + particles_velocity\n",
        "        particles_position = toDiscrete(activation(particles_position + particles_velocity))\n",
        "\n",
        "        best_particle_position = particles_position\n",
        "\n",
        "    return best_global, best_global_position"
      ],
      "execution_count": null,
      "outputs": []
    },
    {
      "cell_type": "markdown",
      "metadata": {
        "id": "ja6_ZpTAuvwd",
        "colab_type": "text"
      },
      "source": [
        "# PSO/Mochila con JAX.NUMPY\n"
      ]
    },
    {
      "cell_type": "code",
      "metadata": {
        "id": "FWYg78l2uiIZ",
        "colab_type": "code",
        "colab": {}
      },
      "source": [
        "from jax import random, jit\n",
        "import jax.numpy as npj\n",
        "import numpy as np\n",
        "import random as randompy\n",
        "from datetime import datetime\n",
        "\n",
        "@jit\n",
        "def mochila_res(X):\n",
        "    # P = len(X)\n",
        "    # M = nro_restricciones\n",
        "\n",
        "    Peso = npj.sum(pv_file, axis=0)\n",
        "\n",
        "    PR = npj.matmul(X, pv_file)\n",
        "\n",
        "    G = npj.matmul(rs_file, X.transpose()).transpose()\n",
        "    # Transpongo para cumplir con (k,j),(j,i)->(k,i)\n",
        "\n",
        "    VIO = npj.add(G, -1 * bs_file) # Esto esta perfecto\n",
        "\n",
        "    VIO = npj.where(VIO < 0.0, 0.0, VIO)\n",
        "\n",
        "    PNLTY = npj.sum(VIO, axis = 1)\n",
        "\n",
        "    FI = npj.add(PR, -1 * (Peso * PNLTY))\n",
        "\n",
        "    return FI, VIO\n",
        "\n",
        "@jit\n",
        "def mochila(X):\n",
        "    FI, VIO = mochila_res(X)\n",
        "\n",
        "    return -FI\n",
        "\n",
        "@jit\n",
        "def activation(x, function=1):\n",
        "    if (function == 1):  # Sigmoid\n",
        "        return 1 / (1 + npj.exp(-x))\n",
        "    elif (function == 2):  # Softmax\n",
        "        expo = npj.exp(x)\n",
        "        expo_sum = npj.sum(npj.exp(x))\n",
        "        return expo / expo_sum\n",
        "    elif (function == 3):  # ReLu\n",
        "        return npj.maximum(0, x)\n",
        "\n",
        "@jit\n",
        "def toDiscrete(x):\n",
        "    return npj.where(x < 0.5, 0, 1)\n",
        "\n",
        "@jit\n",
        "def convert_to_discrete(x):\n",
        "    x_sigmoid = 1 / (1 + npj.exp(-x))\n",
        "    discrete_position = npj.where(x_sigmoid < 0.5, 0, 1)\n",
        "    return discrete_position\n",
        "\n",
        "@jit\n",
        "def calculate_velocity(w, particles_velocity, c1, c2, r1, r2, best_particle_position,\n",
        "                       particles_position, best_global_position):\n",
        "    inertia = w * particles_velocity\n",
        "    best_particle_pos_component = r1 * (best_particle_position - particles_position)\n",
        "    best_global_pos_component = r2 * (best_global_position - particles_position)\n",
        "\n",
        "    new_velocity = inertia + c1 * best_particle_pos_component + c2 * best_global_pos_component\n",
        "    return new_velocity\n",
        "\n",
        "def calculate_best_position(objective_values, best_particle_cost, particles_position, best_particle_position, particles,\n",
        "                            dimensions):\n",
        "    bests = npj.less(objective_values, best_particle_cost)\n",
        "    reshape = npj.reshape(bests, npj.array([particles, 1]))\n",
        "    bests_reshape = npj.broadcast_to(reshape, npj.array([particles, dimensions]))\n",
        "    pos = npj.where(bests_reshape, particles_position, best_particle_position)\n",
        "    return pos\n",
        "\n",
        "def runDiscretePSO_jax(user_options, algorithm_options):\n",
        "\n",
        "    # For each particle, initialize position and velocity\n",
        "    particles_position = random.uniform(random.PRNGKey(datetime.now().microsecond), (algorithm_options['particles'], algorithm_options['dimensions']), None, -1, 1)\n",
        "    particles_velocity = random.uniform(random.PRNGKey(datetime.now().microsecond), (algorithm_options['particles'], algorithm_options['dimensions']), None, -1, 1)\n",
        "\n",
        "    # particles_position = convert_to_discrete(particles_position)\n",
        "    particles_position = toDiscrete(activation(particles_velocity))\n",
        "\n",
        "    particles = algorithm_options['particles']\n",
        "    dimensions = algorithm_options['dimensions']\n",
        "    best_global = None  # Best swarm cost\n",
        "    best_global_position = npj.empty((particles, dimensions))  # Best swarm position\n",
        "    best_particle_position = particles_position\n",
        "    best_particle_cost = algorithm_options['objective'](best_particle_position)  # obj_fuction(best_particle_position)\n",
        "\n",
        "    for k in range(0, algorithm_options['iterations']):\n",
        "        # while k < algorithm_options['iterations']:\n",
        "        objective_values = algorithm_options['objective'](best_particle_position)  # obj_fuction(particles_position)\n",
        "        best_index = npj.argmin(objective_values)\n",
        "        best_value = objective_values[best_index]\n",
        "\n",
        "        # 150 x 20 !!!\n",
        "        best_particle_position = calculate_best_position(objective_values, best_particle_cost, particles_position,\n",
        "                                                         best_particle_position, particles, dimensions)\n",
        "\n",
        "        if best_global is None or best_value < best_global:\n",
        "            # Update best swarm cost and position\n",
        "            best_global = best_value\n",
        "            best_global_position = particles_position[best_index]\n",
        "\n",
        "        r1 = random.uniform(random.PRNGKey(datetime.now().microsecond), (algorithm_options['particles'], algorithm_options['dimensions']), None, 0, 1)\n",
        "        r2 = random.uniform(random.PRNGKey(datetime.now().microsecond), (algorithm_options['particles'], algorithm_options['dimensions']), None, 0, 1)\n",
        "\n",
        "        particles_velocity = calculate_velocity(user_options['w'], particles_velocity, user_options['c1'],\n",
        "                                                user_options['c2'], r1, r2, best_particle_position,\n",
        "                                                particles_position, best_global_position)\n",
        "\n",
        "        #new_particle_positions = particles_position + particles_velocity\n",
        "        particles_position = toDiscrete(activation(particles_position + particles_velocity))\n",
        "\n",
        "        best_particle_position = particles_position\n",
        "\n",
        "        # best_cost_yet_found = npj.min(best_particle_cost)\n",
        "        # relative_measure = algorithm_options['ftol'] * (1 + npj.abs(best_cost_yet_found))\n",
        "        # if (npj.any(npj.abs(best_particle_cost - best_cost_yet_found) < relative_measure)):\n",
        "        #     break\n",
        "\n",
        "    return best_global, best_global_position"
      ],
      "execution_count": null,
      "outputs": []
    },
    {
      "cell_type": "markdown",
      "metadata": {
        "id": "zJZd3r0avHPI",
        "colab_type": "text"
      },
      "source": [
        "# Comparar Soluciones"
      ]
    },
    {
      "cell_type": "code",
      "metadata": {
        "id": "99dcSqSCvGf-",
        "colab_type": "code",
        "colab": {
          "base_uri": "https://localhost:8080/",
          "height": 459
        },
        "outputId": "5f743346-a75e-463d-8941-8c24b1087dac"
      },
      "source": [
        "import time\n",
        "import pyswarms as ps\n",
        "\n",
        "def generar_instancia(nro_items, nro_restricciones, alfa=0.75):\n",
        "    rs = np.random.randint(1000, size=(nro_restricciones, nro_items))\n",
        "    bs = alfa * np.sum(rs, axis=1)\n",
        "    q = np.random.random_sample((nro_items))\n",
        "    pv = np.sum(rs, axis=0) / nro_restricciones\n",
        "    pv = np.add(pv, 500 * q)\n",
        "\n",
        "    return pv, rs, bs\n",
        "\n",
        "def imprimir_solucion(solX):\n",
        "    solPru = np.random.randint(2, size=(1, nro_items))\n",
        "    for k in range(0, nro_items):\n",
        "        solPru[0, k] = solX[k]\n",
        "\n",
        "    print(solX)\n",
        "    print(solPru)\n",
        "\n",
        "    [f, vio] = mochila_res(solPru)\n",
        "    print(vio)\n",
        "\n",
        "def solucion_nuestra_np(num_particles, iterations, dim, ftol, options):\n",
        "    global solX_NumPy\n",
        "    user_options = {'c1': options['c1'], 'c2': options['c2'], 'w': options['w']}\n",
        "    algorithm_options = {'particles': num_particles, 'dimensions': dim,\n",
        "                         'iterations': iterations, 'objective': mochila, 'ftol': ftol}\n",
        "\n",
        "    # Perform optimization\n",
        "    start = time.time()\n",
        "    solFO, solX_NumPy = runDiscretePSO_np(user_options, algorithm_options)\n",
        "    wall_time = time.time() - start\n",
        "\n",
        "    return solFO, wall_time\n",
        "\n",
        "def solucion_nuestra_jax(num_particles, iterations, dim, ftol, options):\n",
        "    global solX_NumPyJAX\n",
        "    user_options = {'c1': options['c1'], 'c2': options['c2'], 'w': options['w']}\n",
        "    algorithm_options = {'particles': num_particles, 'dimensions': dim,\n",
        "                         'iterations': iterations, 'objective': mochila, 'ftol': ftol}\n",
        "\n",
        "    # Perform optimization\n",
        "    start = time.time()\n",
        "    solFO, solX_NumPyJAX = runDiscretePSO_jax(user_options, algorithm_options)\n",
        "    wall_time = time.time() - start\n",
        "\n",
        "    return solFO, wall_time\n",
        "\n",
        "def solucion_pyswarm(num_particles, iteraciones, dimensiones, ftol, options):\n",
        "    global solX_PySwarms\n",
        "    optimizer = ps.discrete.binary.BinaryPSO(n_particles=num_particles,\n",
        "                                             dimensions=dimensiones,\n",
        "                                             options=options,\n",
        "                                             init_pos=None,\n",
        "                                             velocity_clamp=None,\n",
        "                                             vh_strategy='unmodified', ftol=ftol)\n",
        "\n",
        "    # Perform optimization\n",
        "    start = time.time()\n",
        "    [solFO, solX_PySwarms] = optimizer.optimize(mochila, iters=iteraciones)\n",
        "    wall_time = time.time() - start\n",
        "  \n",
        "\n",
        "    return solFO, wall_time\n",
        "\n",
        "def comparar_solciones():\n",
        "    # function particular variables\n",
        "    global pv_file\n",
        "    global bs_file\n",
        "    global rs_file\n",
        "    global nro_items\n",
        "    global nro_restricciones\n",
        "\n",
        "    nro_items = 20\n",
        "    nro_restricciones = 5\n",
        "\n",
        "    [pv_temp, rs_temp, bs_temp] = generar_instancia(nro_items, nro_restricciones)\n",
        "    np.savetxt('pv.csv', pv_temp, delimiter=',')\n",
        "    np.savetxt('rs.csv', rs_temp, delimiter=',')\n",
        "    np.savetxt('bs.csv', bs_temp, delimiter=',')\n",
        "\n",
        "    dimensiones = nro_items\n",
        "    iteraciones = 100\n",
        "    num_particles = 15\n",
        "\n",
        "    prom_iters = 30\n",
        "    ftol = -np.inf\n",
        "\n",
        "    wall_times = [0, 0, 0]\n",
        "    solFOs = [0, 0, 0]\n",
        "    # Item 0: Solucion Pyswarms\n",
        "    # Item 1: Solucion Nuestra con Numpy\n",
        "    # Item 2: Solucion Nuestra con JAX\n",
        "\n",
        "    init_mochila()\n",
        "\n",
        "    for i in range(prom_iters):\n",
        "        \n",
        "        [solFO, wall_time] = solucion_pyswarm(num_particles, iteraciones, dimensiones, ftol,\n",
        "                        options={'c1': 0.5, 'c2': 0.3, 'w': 0.9, 'k': num_particles, 'p': 1})\n",
        "        wall_times[0] += wall_time\n",
        "        solFOs[0] += solFO\n",
        "\n",
        "        [solFO, wall_time] = solucion_nuestra_np(num_particles, iteraciones, dimensiones, ftol,\n",
        "                        options={'c1': 0.5, 'c2': 0.3, 'w': 0.9, 'k': num_particles, 'p': 1})\n",
        "        wall_times[1] += wall_time\n",
        "        solFOs[1] += solFO\n",
        "\n",
        "        [solFO, wall_time] = solucion_nuestra_jax(num_particles, iteraciones, dimensiones, ftol,\n",
        "                        options={'c1': 0.5, 'c2': 0.3, 'w': 0.9, 'k': num_particles, 'p': 1})\n",
        "        wall_times[2] += wall_time\n",
        "        solFOs[2] += solFO\n",
        "\n",
        "    print(\"\\nwall_time pyswarms: {:0.2f}ms\".format(1000 * wall_times[0] / prom_iters))\n",
        "    print(\"wall_time nuestro: {:0.2f}ms (con NumPy)\".format(1000 * wall_times[1] / prom_iters))\n",
        "    print(\"wall_time nuestro: {:0.2f}ms (con JAX.NumPy)\".format(1000 * wall_times[2] / prom_iters))\n",
        "\n",
        "    print(\"\\nSolucion Pyswarms: {:0.2f}\".format(-solFOs[0] / prom_iters)) # Los valores los pasamos a positivo ya que fueron tomados directamente de la mochila.\n",
        "    print(\"Solucion Numpy: {:0.2f}\".format(-solFOs[1] / prom_iters))\n",
        "    print(\"Solucion JAX: {:0.2f}\".format(-solFOs[2] / prom_iters))\n",
        "\n",
        "    # Imprime la última mochila ejecutada.\n",
        "    print(\"\\nSolución PySwarms:\")\n",
        "    imprimir_solucion(solX_PySwarms)\n",
        "    print(\"\\nSolución NumPy:\")\n",
        "    imprimir_solucion(solX_NumPy)\n",
        "    print(\"\\nSolución JAX.NumPy:\")\n",
        "    imprimir_solucion(solX_NumPyJAX)\n",
        "\n",
        "if __name__ == '__main__':\n",
        "    comparar_solciones()"
      ],
      "execution_count": null,
      "outputs": [
        {
          "output_type": "stream",
          "text": [
            "2020-07-05 01:08:33,449 - pyswarms.discrete.binary - INFO - Optimize for 100 iters with {'c1': 0.5, 'c2': 0.3, 'w': 0.9, 'k': 15, 'p': 1}\n",
            "pyswarms.discrete.binary: 100%|██████████|100/100, best_cost=-1.11e+4\n",
            "2020-07-05 01:08:33,887 - pyswarms.discrete.binary - INFO - Optimization finished | best cost: -11090.2373046875, best pos: [0 1 1 1 1 1 1 1 1 0 1 0 0 1 1 0 1 1 0 1]\n"
          ],
          "name": "stderr"
        },
        {
          "output_type": "stream",
          "text": [
            "\n",
            "wall_time pyswarms: 439.35ms\n",
            "wall_time nuestro: 612.18ms (con NumPy)\n",
            "wall_time nuestro: 953.87ms (con JAX.NumPy)\n",
            "\n",
            "Solucion Pyswarms: 11090.24\n",
            "Solucion Numpy: 10640.61\n",
            "Solucion JAX: 10644.79\n",
            "\n",
            "Solución PySwarms:\n",
            "[0 1 1 1 1 1 1 1 1 0 1 0 0 1 1 0 1 1 0 1]\n",
            "[[0 1 1 1 1 1 1 1 1 0 1 0 0 1 1 0 1 1 0 1]]\n",
            "[[0. 0. 0. 0. 0.]]\n",
            "\n",
            "Solución NumPy:\n",
            "[0 0 1 1 1 1 1 1 1 1 1 1 1 1 0 1 0 0 1 0]\n",
            "[[0 0 1 1 1 1 1 1 1 1 1 1 1 1 0 1 0 0 1 0]]\n",
            "[[0. 0. 0. 0. 0.]]\n",
            "\n",
            "Solución JAX.NumPy:\n",
            "[1 1 1 1 0 0 1 1 1 1 1 1 1 1 0 0 0 1 0 0]\n",
            "[[1 1 1 1 0 0 1 1 1 1 1 1 1 1 0 0 0 1 0 0]]\n",
            "[[0. 0. 0. 0. 0.]]\n"
          ],
          "name": "stdout"
        }
      ]
    }
  ]
}